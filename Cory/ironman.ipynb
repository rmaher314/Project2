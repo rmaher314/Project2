{
 "metadata": {
  "language_info": {
   "codemirror_mode": {
    "name": "ipython",
    "version": 3
   },
   "file_extension": ".py",
   "mimetype": "text/x-python",
   "name": "python",
   "nbconvert_exporter": "python",
   "pygments_lexer": "ipython3",
   "version": "3.6.10-final"
  },
  "orig_nbformat": 2,
  "kernelspec": {
   "name": "python3",
   "display_name": "Python 3"
  }
 },
 "nbformat": 4,
 "nbformat_minor": 2,
 "cells": [
  {
   "cell_type": "code",
   "execution_count": 1,
   "metadata": {},
   "outputs": [],
   "source": [
    "import numpy as np\n",
    "\n",
    "import sqlalchemy\n",
    "from sqlalchemy.ext.automap import automap_base\n",
    "from sqlalchemy.orm import Session\n",
    "from sqlalchemy import create_engine, func\n",
    "from sqlalchemy import Column, Integer, String, Float, Time\n",
    "from sqlalchemy.ext.declarative import declarative_base\n",
    "import pandas as pd\n",
    "# from config import username, password\n",
    "from flask import Flask, jsonify, render_template\n"
   ]
  },
  {
   "cell_type": "code",
   "execution_count": 2,
   "metadata": {},
   "outputs": [],
   "source": [
    "csv_file = \"data/2019_Ironman_World_Championship_Results.csv\"\n",
    "race_stats_df = pd.read_csv(csv_file)\n",
    "csv_file = \"data/countries_codes_and_coordinates.csv\"\n",
    "countries_df = pd.read_csv(csv_file)"
   ]
  },
  {
   "cell_type": "code",
   "execution_count": 3,
   "metadata": {},
   "outputs": [],
   "source": [
    "# merge both dataframes into one dataframe on country code\n",
    "merged_df = pd.merge(race_stats_df, countries_df, left_on=\"Country\", right_on=\"Alpha_3_code\")"
   ]
  },
  {
   "cell_type": "code",
   "execution_count": 13,
   "metadata": {},
   "outputs": [],
   "source": [
    "# Remove unnecessary columns and rename columns\n",
    "ironman_df = merged_df.loc[:, ['BIB', 'Last_Name', 'First_Name', 'Country_x', 'Country_y', 'Gender', 'Division', 'Swim', 'Bike', 'Run', 'Overall', 'Division_Rank', 'Gender_Rank', 'Overall_Rank', 'T1', 'T2', 'Latitude_average', 'Longitude_average']].dropna()\n",
    "ironman_df = ironman_df.rename(columns={\"Country_x\":\"Alpha_3_code\", \"Country_y\":\"Country\"})\n"
   ]
  },
  {
   "cell_type": "code",
   "execution_count": 14,
   "metadata": {},
   "outputs": [
    {
     "output_type": "execute_result",
     "data": {
      "text/plain": [
       "       BIB          Last_Name First_Name Alpha_3_code             Country  \\\n",
       "0        4            Frodeno        Jan          DEU             Germany   \n",
       "1        5             Kienle  Sebastian          DEU             Germany   \n",
       "2       45          Frommhold       Nils          DEU             Germany   \n",
       "3       44            Duelsen       Marc          DEU             Germany   \n",
       "4     3003               Haug       Anne          DEU             Germany   \n",
       "...    ...                ...        ...          ...                 ...   \n",
       "2470  1331            Altayeb       Dina          SAU        Saudi Arabia   \n",
       "2471   402  Fernandez vasquez     Bianca          DOM  Dominican Republic   \n",
       "2472   327                 Vu      Heidi          VNM            Viet Nam   \n",
       "2473   327                 Vu      Heidi          VNM             Vietnam   \n",
       "2474   370              Yotov      Kamen          BGR            Bulgaria   \n",
       "\n",
       "      Gender Division     Swim     Bike      Run   Overall Division_Rank  \\\n",
       "0       Male     MPRO  0:47:31  4:16:02  2:42:43   7:51:13             1   \n",
       "1       Male     MPRO  0:52:17  4:15:04  2:49:56   8:02:04             3   \n",
       "2       Male     MPRO  0:50:47  4:24:29  3:05:10   8:24:56            20   \n",
       "3       Male     MPRO  0:52:21  4:28:26  3:01:14   8:26:35            23   \n",
       "4     Female     FPRO  0:54:09  4:50:17  2:51:07   8:40:10             1   \n",
       "...      ...      ...      ...      ...      ...       ...           ...   \n",
       "2470  Female   F45-49  1:36:44  7:11:32  5:46:14  14:51:02            80   \n",
       "2471  Female   F35-39  1:58:24  7:29:58  5:17:15  15:00:22            73   \n",
       "2472  Female   F45-49  1:22:41  7:48:27  6:17:47  15:40:02            84   \n",
       "2473  Female   F45-49  1:22:41  7:48:27  6:17:47  15:40:02            84   \n",
       "2474    Male   M40-44  1:32:30  7:57:24  7:03:42  16:57:09           274   \n",
       "\n",
       "     Gender_Rank Overall_Rank       T1       T2  Latitude_average  \\\n",
       "0              1            1  0:01:58  0:02:59              51.0   \n",
       "1              3            3  0:02:12  0:02:35              51.0   \n",
       "2             20           20  0:02:08  0:02:22              51.0   \n",
       "3             23           23  0:02:07  0:02:27              51.0   \n",
       "4              1           32  0:02:02  0:02:35              51.0   \n",
       "...          ...          ...      ...      ...               ...   \n",
       "2470         538         2087  0:07:06  0:09:26              25.0   \n",
       "2471         545         2101  0:05:59  0:08:46              19.0   \n",
       "2472         574         2163  0:05:14  0:05:53              16.0   \n",
       "2473         574         2163  0:05:14  0:05:53              16.0   \n",
       "2474        1656         2266  0:13:25  0:10:08              43.0   \n",
       "\n",
       "      Longitude_average  \n",
       "0                9.0000  \n",
       "1                9.0000  \n",
       "2                9.0000  \n",
       "3                9.0000  \n",
       "4                9.0000  \n",
       "...                 ...  \n",
       "2470            45.0000  \n",
       "2471           -70.6667  \n",
       "2472           106.0000  \n",
       "2473           106.0000  \n",
       "2474            25.0000  \n",
       "\n",
       "[2294 rows x 18 columns]"
      ],
      "text/html": "<div>\n<style scoped>\n    .dataframe tbody tr th:only-of-type {\n        vertical-align: middle;\n    }\n\n    .dataframe tbody tr th {\n        vertical-align: top;\n    }\n\n    .dataframe thead th {\n        text-align: right;\n    }\n</style>\n<table border=\"1\" class=\"dataframe\">\n  <thead>\n    <tr style=\"text-align: right;\">\n      <th></th>\n      <th>BIB</th>\n      <th>Last_Name</th>\n      <th>First_Name</th>\n      <th>Alpha_3_code</th>\n      <th>Country</th>\n      <th>Gender</th>\n      <th>Division</th>\n      <th>Swim</th>\n      <th>Bike</th>\n      <th>Run</th>\n      <th>Overall</th>\n      <th>Division_Rank</th>\n      <th>Gender_Rank</th>\n      <th>Overall_Rank</th>\n      <th>T1</th>\n      <th>T2</th>\n      <th>Latitude_average</th>\n      <th>Longitude_average</th>\n    </tr>\n  </thead>\n  <tbody>\n    <tr>\n      <th>0</th>\n      <td>4</td>\n      <td>Frodeno</td>\n      <td>Jan</td>\n      <td>DEU</td>\n      <td>Germany</td>\n      <td>Male</td>\n      <td>MPRO</td>\n      <td>0:47:31</td>\n      <td>4:16:02</td>\n      <td>2:42:43</td>\n      <td>7:51:13</td>\n      <td>1</td>\n      <td>1</td>\n      <td>1</td>\n      <td>0:01:58</td>\n      <td>0:02:59</td>\n      <td>51.0</td>\n      <td>9.0000</td>\n    </tr>\n    <tr>\n      <th>1</th>\n      <td>5</td>\n      <td>Kienle</td>\n      <td>Sebastian</td>\n      <td>DEU</td>\n      <td>Germany</td>\n      <td>Male</td>\n      <td>MPRO</td>\n      <td>0:52:17</td>\n      <td>4:15:04</td>\n      <td>2:49:56</td>\n      <td>8:02:04</td>\n      <td>3</td>\n      <td>3</td>\n      <td>3</td>\n      <td>0:02:12</td>\n      <td>0:02:35</td>\n      <td>51.0</td>\n      <td>9.0000</td>\n    </tr>\n    <tr>\n      <th>2</th>\n      <td>45</td>\n      <td>Frommhold</td>\n      <td>Nils</td>\n      <td>DEU</td>\n      <td>Germany</td>\n      <td>Male</td>\n      <td>MPRO</td>\n      <td>0:50:47</td>\n      <td>4:24:29</td>\n      <td>3:05:10</td>\n      <td>8:24:56</td>\n      <td>20</td>\n      <td>20</td>\n      <td>20</td>\n      <td>0:02:08</td>\n      <td>0:02:22</td>\n      <td>51.0</td>\n      <td>9.0000</td>\n    </tr>\n    <tr>\n      <th>3</th>\n      <td>44</td>\n      <td>Duelsen</td>\n      <td>Marc</td>\n      <td>DEU</td>\n      <td>Germany</td>\n      <td>Male</td>\n      <td>MPRO</td>\n      <td>0:52:21</td>\n      <td>4:28:26</td>\n      <td>3:01:14</td>\n      <td>8:26:35</td>\n      <td>23</td>\n      <td>23</td>\n      <td>23</td>\n      <td>0:02:07</td>\n      <td>0:02:27</td>\n      <td>51.0</td>\n      <td>9.0000</td>\n    </tr>\n    <tr>\n      <th>4</th>\n      <td>3003</td>\n      <td>Haug</td>\n      <td>Anne</td>\n      <td>DEU</td>\n      <td>Germany</td>\n      <td>Female</td>\n      <td>FPRO</td>\n      <td>0:54:09</td>\n      <td>4:50:17</td>\n      <td>2:51:07</td>\n      <td>8:40:10</td>\n      <td>1</td>\n      <td>1</td>\n      <td>32</td>\n      <td>0:02:02</td>\n      <td>0:02:35</td>\n      <td>51.0</td>\n      <td>9.0000</td>\n    </tr>\n    <tr>\n      <th>...</th>\n      <td>...</td>\n      <td>...</td>\n      <td>...</td>\n      <td>...</td>\n      <td>...</td>\n      <td>...</td>\n      <td>...</td>\n      <td>...</td>\n      <td>...</td>\n      <td>...</td>\n      <td>...</td>\n      <td>...</td>\n      <td>...</td>\n      <td>...</td>\n      <td>...</td>\n      <td>...</td>\n      <td>...</td>\n      <td>...</td>\n    </tr>\n    <tr>\n      <th>2470</th>\n      <td>1331</td>\n      <td>Altayeb</td>\n      <td>Dina</td>\n      <td>SAU</td>\n      <td>Saudi Arabia</td>\n      <td>Female</td>\n      <td>F45-49</td>\n      <td>1:36:44</td>\n      <td>7:11:32</td>\n      <td>5:46:14</td>\n      <td>14:51:02</td>\n      <td>80</td>\n      <td>538</td>\n      <td>2087</td>\n      <td>0:07:06</td>\n      <td>0:09:26</td>\n      <td>25.0</td>\n      <td>45.0000</td>\n    </tr>\n    <tr>\n      <th>2471</th>\n      <td>402</td>\n      <td>Fernandez vasquez</td>\n      <td>Bianca</td>\n      <td>DOM</td>\n      <td>Dominican Republic</td>\n      <td>Female</td>\n      <td>F35-39</td>\n      <td>1:58:24</td>\n      <td>7:29:58</td>\n      <td>5:17:15</td>\n      <td>15:00:22</td>\n      <td>73</td>\n      <td>545</td>\n      <td>2101</td>\n      <td>0:05:59</td>\n      <td>0:08:46</td>\n      <td>19.0</td>\n      <td>-70.6667</td>\n    </tr>\n    <tr>\n      <th>2472</th>\n      <td>327</td>\n      <td>Vu</td>\n      <td>Heidi</td>\n      <td>VNM</td>\n      <td>Viet Nam</td>\n      <td>Female</td>\n      <td>F45-49</td>\n      <td>1:22:41</td>\n      <td>7:48:27</td>\n      <td>6:17:47</td>\n      <td>15:40:02</td>\n      <td>84</td>\n      <td>574</td>\n      <td>2163</td>\n      <td>0:05:14</td>\n      <td>0:05:53</td>\n      <td>16.0</td>\n      <td>106.0000</td>\n    </tr>\n    <tr>\n      <th>2473</th>\n      <td>327</td>\n      <td>Vu</td>\n      <td>Heidi</td>\n      <td>VNM</td>\n      <td>Vietnam</td>\n      <td>Female</td>\n      <td>F45-49</td>\n      <td>1:22:41</td>\n      <td>7:48:27</td>\n      <td>6:17:47</td>\n      <td>15:40:02</td>\n      <td>84</td>\n      <td>574</td>\n      <td>2163</td>\n      <td>0:05:14</td>\n      <td>0:05:53</td>\n      <td>16.0</td>\n      <td>106.0000</td>\n    </tr>\n    <tr>\n      <th>2474</th>\n      <td>370</td>\n      <td>Yotov</td>\n      <td>Kamen</td>\n      <td>BGR</td>\n      <td>Bulgaria</td>\n      <td>Male</td>\n      <td>M40-44</td>\n      <td>1:32:30</td>\n      <td>7:57:24</td>\n      <td>7:03:42</td>\n      <td>16:57:09</td>\n      <td>274</td>\n      <td>1656</td>\n      <td>2266</td>\n      <td>0:13:25</td>\n      <td>0:10:08</td>\n      <td>43.0</td>\n      <td>25.0000</td>\n    </tr>\n  </tbody>\n</table>\n<p>2294 rows × 18 columns</p>\n</div>"
     },
     "metadata": {},
     "execution_count": 14
    }
   ],
   "source": [
    "ironman_df"
   ]
  },
  {
   "cell_type": "code",
   "execution_count": 15,
   "metadata": {},
   "outputs": [
    {
     "output_type": "execute_result",
     "data": {
      "text/plain": [
       "BIB                    int64\n",
       "Last_Name             object\n",
       "First_Name            object\n",
       "Alpha_3_code          object\n",
       "Country               object\n",
       "Gender                object\n",
       "Division              object\n",
       "Swim                  object\n",
       "Bike                  object\n",
       "Run                   object\n",
       "Overall               object\n",
       "Division_Rank         object\n",
       "Gender_Rank           object\n",
       "Overall_Rank          object\n",
       "T1                    object\n",
       "T2                    object\n",
       "Latitude_average     float64\n",
       "Longitude_average    float64\n",
       "dtype: object"
      ]
     },
     "metadata": {},
     "execution_count": 15
    }
   ],
   "source": [
    "ironman_df.dtypes"
   ]
  },
  {
   "cell_type": "code",
   "execution_count": 27,
   "metadata": {},
   "outputs": [],
   "source": [
    "ironman_df.loc[:, 'Swim'] = pd.to_datetime(ironman_df.loc[:, 'Swim'], format='%H:%M:%S') - pd.to_datetime(ironman_df.loc[:, 'Swim'], format='%H:%M:%S').dt.normalize()\n",
    "ironman_df.loc[:, 'Bike'] = pd.to_datetime(ironman_df.loc[:, 'Bike'], format='%H:%M:%S') - pd.to_datetime(ironman_df.loc[:, 'Bike'], format='%H:%M:%S').dt.normalize()\n",
    "ironman_df.loc[:, 'Run'] = pd.to_datetime(ironman_df.loc[:, 'Run'], format='%H:%M:%S') - pd.to_datetime(ironman_df.loc[:, 'Run'], format='%H:%M:%S').dt.normalize()"
   ]
  },
  {
   "cell_type": "code",
   "execution_count": 28,
   "metadata": {},
   "outputs": [
    {
     "output_type": "execute_result",
     "data": {
      "text/plain": [
       "BIB                           int64\n",
       "Last_Name                    object\n",
       "First_Name                   object\n",
       "Alpha_3_code                 object\n",
       "Country                      object\n",
       "Gender                       object\n",
       "Division                     object\n",
       "Swim                 datetime64[ns]\n",
       "Bike                 datetime64[ns]\n",
       "Run                  datetime64[ns]\n",
       "Overall                      object\n",
       "Division_Rank                object\n",
       "Gender_Rank                  object\n",
       "Overall_Rank                 object\n",
       "T1                           object\n",
       "T2                           object\n",
       "Latitude_average            float64\n",
       "Longitude_average           float64\n",
       "dtype: object"
      ]
     },
     "metadata": {},
     "execution_count": 28
    }
   ],
   "source": [
    "clean_df.dtypes"
   ]
  },
  {
   "cell_type": "code",
   "execution_count": 29,
   "metadata": {},
   "outputs": [
    {
     "output_type": "execute_result",
     "data": {
      "text/plain": [
       "Timedelta('0 days 01:12:17.557105')"
      ]
     },
     "metadata": {},
     "execution_count": 29
    }
   ],
   "source": [
    "swim = ironman_df['Swim'].mean()\n",
    "swim"
   ]
  },
  {
   "cell_type": "code",
   "execution_count": 30,
   "metadata": {},
   "outputs": [
    {
     "output_type": "execute_result",
     "data": {
      "text/plain": [
       "Timedelta('0 days 05:45:38.909328')"
      ]
     },
     "metadata": {},
     "execution_count": 30
    }
   ],
   "source": [
    "bike = ironman_df['Bike'].mean()\n",
    "bike"
   ]
  },
  {
   "cell_type": "code",
   "execution_count": 25,
   "metadata": {},
   "outputs": [
    {
     "output_type": "execute_result",
     "data": {
      "text/plain": [
       "Timestamp('1900-01-01 02:42:43')"
      ]
     },
     "metadata": {},
     "execution_count": 25
    }
   ],
   "source": [
    "run = ironman_df['Run'].min()\n",
    "run"
   ]
  },
  {
   "cell_type": "code",
   "execution_count": 7,
   "metadata": {},
   "outputs": [],
   "source": [
    "engine = create_engine(\"sqlite:///data/ironman.sqlite\")"
   ]
  },
  {
   "cell_type": "code",
   "execution_count": 8,
   "metadata": {},
   "outputs": [],
   "source": [
    "# reflect an existing database into a new model\n",
    "Base = automap_base()\n",
    "# reflect the tables\n",
    "Base.prepare(engine, reflect=True)"
   ]
  },
  {
   "cell_type": "code",
   "execution_count": 9,
   "metadata": {},
   "outputs": [
    {
     "output_type": "execute_result",
     "data": {
      "text/plain": [
       "[]"
      ]
     },
     "metadata": {},
     "execution_count": 9
    }
   ],
   "source": [
    "Base.classes.keys()"
   ]
  },
  {
   "cell_type": "code",
   "execution_count": 10,
   "metadata": {},
   "outputs": [
    {
     "output_type": "error",
     "ename": "AttributeError",
     "evalue": "race_stats",
     "traceback": [
      "\u001b[1;31m---------------------------------------------------------------------------\u001b[0m",
      "\u001b[1;31mKeyError\u001b[0m                                  Traceback (most recent call last)",
      "\u001b[1;32m~\\anaconda3\\envs\\bcs\\lib\\site-packages\\sqlalchemy\\util\\_collections.py\u001b[0m in \u001b[0;36m__getattr__\u001b[1;34m(self, key)\u001b[0m\n\u001b[0;32m    209\u001b[0m         \u001b[1;32mtry\u001b[0m\u001b[1;33m:\u001b[0m\u001b[1;33m\u001b[0m\u001b[1;33m\u001b[0m\u001b[0m\n\u001b[1;32m--> 210\u001b[1;33m             \u001b[1;32mreturn\u001b[0m \u001b[0mself\u001b[0m\u001b[1;33m.\u001b[0m\u001b[0m_data\u001b[0m\u001b[1;33m[\u001b[0m\u001b[0mkey\u001b[0m\u001b[1;33m]\u001b[0m\u001b[1;33m\u001b[0m\u001b[1;33m\u001b[0m\u001b[0m\n\u001b[0m\u001b[0;32m    211\u001b[0m         \u001b[1;32mexcept\u001b[0m \u001b[0mKeyError\u001b[0m\u001b[1;33m:\u001b[0m\u001b[1;33m\u001b[0m\u001b[1;33m\u001b[0m\u001b[0m\n",
      "\u001b[1;31mKeyError\u001b[0m: 'race_stats'",
      "\nDuring handling of the above exception, another exception occurred:\n",
      "\u001b[1;31mAttributeError\u001b[0m                            Traceback (most recent call last)",
      "\u001b[1;32m<ipython-input-10-b8a2f4e247ec>\u001b[0m in \u001b[0;36m<module>\u001b[1;34m\u001b[0m\n\u001b[0;32m      1\u001b[0m \u001b[1;31m# Save reference to the table\u001b[0m\u001b[1;33m\u001b[0m\u001b[1;33m\u001b[0m\u001b[1;33m\u001b[0m\u001b[0m\n\u001b[1;32m----> 2\u001b[1;33m \u001b[0mRace_Stats\u001b[0m \u001b[1;33m=\u001b[0m \u001b[0mBase\u001b[0m\u001b[1;33m.\u001b[0m\u001b[0mclasses\u001b[0m\u001b[1;33m.\u001b[0m\u001b[0mrace_stats\u001b[0m\u001b[1;33m\u001b[0m\u001b[1;33m\u001b[0m\u001b[0m\n\u001b[0m",
      "\u001b[1;32m~\\anaconda3\\envs\\bcs\\lib\\site-packages\\sqlalchemy\\util\\_collections.py\u001b[0m in \u001b[0;36m__getattr__\u001b[1;34m(self, key)\u001b[0m\n\u001b[0;32m    210\u001b[0m             \u001b[1;32mreturn\u001b[0m \u001b[0mself\u001b[0m\u001b[1;33m.\u001b[0m\u001b[0m_data\u001b[0m\u001b[1;33m[\u001b[0m\u001b[0mkey\u001b[0m\u001b[1;33m]\u001b[0m\u001b[1;33m\u001b[0m\u001b[1;33m\u001b[0m\u001b[0m\n\u001b[0;32m    211\u001b[0m         \u001b[1;32mexcept\u001b[0m \u001b[0mKeyError\u001b[0m\u001b[1;33m:\u001b[0m\u001b[1;33m\u001b[0m\u001b[1;33m\u001b[0m\u001b[0m\n\u001b[1;32m--> 212\u001b[1;33m             \u001b[1;32mraise\u001b[0m \u001b[0mAttributeError\u001b[0m\u001b[1;33m(\u001b[0m\u001b[0mkey\u001b[0m\u001b[1;33m)\u001b[0m\u001b[1;33m\u001b[0m\u001b[1;33m\u001b[0m\u001b[0m\n\u001b[0m\u001b[0;32m    213\u001b[0m \u001b[1;33m\u001b[0m\u001b[0m\n\u001b[0;32m    214\u001b[0m     \u001b[1;32mdef\u001b[0m \u001b[0m__contains__\u001b[0m\u001b[1;33m(\u001b[0m\u001b[0mself\u001b[0m\u001b[1;33m,\u001b[0m \u001b[0mkey\u001b[0m\u001b[1;33m)\u001b[0m\u001b[1;33m:\u001b[0m\u001b[1;33m\u001b[0m\u001b[1;33m\u001b[0m\u001b[0m\n",
      "\u001b[1;31mAttributeError\u001b[0m: race_stats"
     ]
    }
   ],
   "source": [
    "# Save reference to the table\n",
    "Race_Stats = Base.classes.race_stats"
   ]
  },
  {
   "cell_type": "code",
   "execution_count": 12,
   "metadata": {},
   "outputs": [],
   "source": [
    "session = Session(engine)"
   ]
  },
  {
   "cell_type": "code",
   "execution_count": null,
   "metadata": {},
   "outputs": [],
   "source": []
  }
 ]
}