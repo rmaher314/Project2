{
 "metadata": {
  "language_info": {
   "codemirror_mode": {
    "name": "ipython",
    "version": 3
   },
   "file_extension": ".py",
   "mimetype": "text/x-python",
   "name": "python",
   "nbconvert_exporter": "python",
   "pygments_lexer": "ipython3",
   "version": "3.6.10-final"
  },
  "orig_nbformat": 2,
  "kernelspec": {
   "name": "python3",
   "display_name": "Python 3"
  }
 },
 "nbformat": 4,
 "nbformat_minor": 2,
 "cells": [
  {
   "cell_type": "code",
   "execution_count": 1,
   "metadata": {},
   "outputs": [],
   "source": [
    "import sqlalchemy\n",
    "from sqlalchemy import create_engine\n",
    "import pandas as pd\n",
    "from config import username, password"
   ]
  },
  {
   "cell_type": "code",
   "execution_count": 2,
   "metadata": {},
   "outputs": [
    {
     "output_type": "execute_result",
     "data": {
      "text/plain": [
       "   BIB  Last_Name First_Name Country Gender Division     Swim     Bike  \\\n",
       "0    4    Frodeno        Jan     DEU   Male     MPRO  0:47:31  4:16:02   \n",
       "1    6  O'donnell        Tim     USA   Male     MPRO  0:47:38  4:18:11   \n",
       "2    5     Kienle  Sebastian     DEU   Male     MPRO  0:52:17  4:15:04   \n",
       "3   14    Hoffman        Ben     USA   Male     MPRO  0:51:01  4:24:01   \n",
       "4   11       Wurf    Cameron     AUS   Male     MPRO  0:52:25  4:14:44   \n",
       "\n",
       "       Run  Overall Division_Rank Gender_Rank Overall_Rank       T1       T2  \n",
       "0  2:42:43  7:51:13             1           1            1  0:01:58  0:02:59  \n",
       "1  2:49:45  7:59:41             2           2            2  0:02:01  0:02:06  \n",
       "2  2:49:56  8:02:04             3           3            3  0:02:12  0:02:35  \n",
       "3  2:43:08  8:02:52             4           4            4  0:02:25  0:02:17  \n",
       "4  2:55:03  8:06:41             5           5            5  0:02:07  0:02:22  "
      ],
      "text/html": "<div>\n<style scoped>\n    .dataframe tbody tr th:only-of-type {\n        vertical-align: middle;\n    }\n\n    .dataframe tbody tr th {\n        vertical-align: top;\n    }\n\n    .dataframe thead th {\n        text-align: right;\n    }\n</style>\n<table border=\"1\" class=\"dataframe\">\n  <thead>\n    <tr style=\"text-align: right;\">\n      <th></th>\n      <th>BIB</th>\n      <th>Last_Name</th>\n      <th>First_Name</th>\n      <th>Country</th>\n      <th>Gender</th>\n      <th>Division</th>\n      <th>Swim</th>\n      <th>Bike</th>\n      <th>Run</th>\n      <th>Overall</th>\n      <th>Division_Rank</th>\n      <th>Gender_Rank</th>\n      <th>Overall_Rank</th>\n      <th>T1</th>\n      <th>T2</th>\n    </tr>\n  </thead>\n  <tbody>\n    <tr>\n      <th>0</th>\n      <td>4</td>\n      <td>Frodeno</td>\n      <td>Jan</td>\n      <td>DEU</td>\n      <td>Male</td>\n      <td>MPRO</td>\n      <td>0:47:31</td>\n      <td>4:16:02</td>\n      <td>2:42:43</td>\n      <td>7:51:13</td>\n      <td>1</td>\n      <td>1</td>\n      <td>1</td>\n      <td>0:01:58</td>\n      <td>0:02:59</td>\n    </tr>\n    <tr>\n      <th>1</th>\n      <td>6</td>\n      <td>O'donnell</td>\n      <td>Tim</td>\n      <td>USA</td>\n      <td>Male</td>\n      <td>MPRO</td>\n      <td>0:47:38</td>\n      <td>4:18:11</td>\n      <td>2:49:45</td>\n      <td>7:59:41</td>\n      <td>2</td>\n      <td>2</td>\n      <td>2</td>\n      <td>0:02:01</td>\n      <td>0:02:06</td>\n    </tr>\n    <tr>\n      <th>2</th>\n      <td>5</td>\n      <td>Kienle</td>\n      <td>Sebastian</td>\n      <td>DEU</td>\n      <td>Male</td>\n      <td>MPRO</td>\n      <td>0:52:17</td>\n      <td>4:15:04</td>\n      <td>2:49:56</td>\n      <td>8:02:04</td>\n      <td>3</td>\n      <td>3</td>\n      <td>3</td>\n      <td>0:02:12</td>\n      <td>0:02:35</td>\n    </tr>\n    <tr>\n      <th>3</th>\n      <td>14</td>\n      <td>Hoffman</td>\n      <td>Ben</td>\n      <td>USA</td>\n      <td>Male</td>\n      <td>MPRO</td>\n      <td>0:51:01</td>\n      <td>4:24:01</td>\n      <td>2:43:08</td>\n      <td>8:02:52</td>\n      <td>4</td>\n      <td>4</td>\n      <td>4</td>\n      <td>0:02:25</td>\n      <td>0:02:17</td>\n    </tr>\n    <tr>\n      <th>4</th>\n      <td>11</td>\n      <td>Wurf</td>\n      <td>Cameron</td>\n      <td>AUS</td>\n      <td>Male</td>\n      <td>MPRO</td>\n      <td>0:52:25</td>\n      <td>4:14:44</td>\n      <td>2:55:03</td>\n      <td>8:06:41</td>\n      <td>5</td>\n      <td>5</td>\n      <td>5</td>\n      <td>0:02:07</td>\n      <td>0:02:22</td>\n    </tr>\n  </tbody>\n</table>\n</div>"
     },
     "metadata": {},
     "execution_count": 2
    }
   ],
   "source": [
    "# Read in race stats csv and convert it to a dataframe\n",
    "csv_file = \"data/2019_Ironman_World_Championship_Results.csv\"\n",
    "race_stats_df = pd.read_csv(csv_file)\n",
    "race_stats_df.head()"
   ]
  },
  {
   "cell_type": "code",
   "execution_count": 3,
   "metadata": {},
   "outputs": [
    {
     "output_type": "execute_result",
     "data": {
      "text/plain": [
       "          Country Alpha_2_code Alpha_3_code  Numeric_code  Latitude_average  \\\n",
       "0     Afghanistan           AF          AFG             4           33.0000   \n",
       "1         Albania           AL          ALB             8           41.0000   \n",
       "2         Algeria           DZ          DZA            12           28.0000   \n",
       "3  American Samoa           AS          ASM            16          -14.3333   \n",
       "4         Andorra           AD          AND            20           42.5000   \n",
       "\n",
       "   Longitude_average  \n",
       "0               65.0  \n",
       "1               20.0  \n",
       "2                3.0  \n",
       "3             -170.0  \n",
       "4                1.6  "
      ],
      "text/html": "<div>\n<style scoped>\n    .dataframe tbody tr th:only-of-type {\n        vertical-align: middle;\n    }\n\n    .dataframe tbody tr th {\n        vertical-align: top;\n    }\n\n    .dataframe thead th {\n        text-align: right;\n    }\n</style>\n<table border=\"1\" class=\"dataframe\">\n  <thead>\n    <tr style=\"text-align: right;\">\n      <th></th>\n      <th>Country</th>\n      <th>Alpha_2_code</th>\n      <th>Alpha_3_code</th>\n      <th>Numeric_code</th>\n      <th>Latitude_average</th>\n      <th>Longitude_average</th>\n    </tr>\n  </thead>\n  <tbody>\n    <tr>\n      <th>0</th>\n      <td>Afghanistan</td>\n      <td>AF</td>\n      <td>AFG</td>\n      <td>4</td>\n      <td>33.0000</td>\n      <td>65.0</td>\n    </tr>\n    <tr>\n      <th>1</th>\n      <td>Albania</td>\n      <td>AL</td>\n      <td>ALB</td>\n      <td>8</td>\n      <td>41.0000</td>\n      <td>20.0</td>\n    </tr>\n    <tr>\n      <th>2</th>\n      <td>Algeria</td>\n      <td>DZ</td>\n      <td>DZA</td>\n      <td>12</td>\n      <td>28.0000</td>\n      <td>3.0</td>\n    </tr>\n    <tr>\n      <th>3</th>\n      <td>American Samoa</td>\n      <td>AS</td>\n      <td>ASM</td>\n      <td>16</td>\n      <td>-14.3333</td>\n      <td>-170.0</td>\n    </tr>\n    <tr>\n      <th>4</th>\n      <td>Andorra</td>\n      <td>AD</td>\n      <td>AND</td>\n      <td>20</td>\n      <td>42.5000</td>\n      <td>1.6</td>\n    </tr>\n  </tbody>\n</table>\n</div>"
     },
     "metadata": {},
     "execution_count": 3
    }
   ],
   "source": [
    "# Read in countries csv and convert it to a dataframe\n",
    "csv_file = \"data/countries_codes_and_coordinates.csv\"\n",
    "countries_df = pd.read_csv(csv_file)\n",
    "countries_df.head()"
   ]
  },
  {
   "cell_type": "code",
   "execution_count": 13,
   "metadata": {},
   "outputs": [
    {
     "output_type": "execute_result",
     "data": {
      "text/plain": [
       "    BIB  Last_Name First_Name Country_x  Gender Division     Swim     Bike  \\\n",
       "0     4    Frodeno        Jan       DEU    Male     MPRO  0:47:31  4:16:02   \n",
       "1     5     Kienle  Sebastian       DEU    Male     MPRO  0:52:17  4:15:04   \n",
       "2    45  Frommhold       Nils       DEU    Male     MPRO  0:50:47  4:24:29   \n",
       "3    44    Duelsen       Marc       DEU    Male     MPRO  0:52:21  4:28:26   \n",
       "4  3003       Haug       Anne       DEU  Female     FPRO  0:54:09  4:50:17   \n",
       "\n",
       "       Run  Overall  ... Gender_Rank Overall_Rank       T1       T2 Country_y  \\\n",
       "0  2:42:43  7:51:13  ...           1            1  0:01:58  0:02:59   Germany   \n",
       "1  2:49:56  8:02:04  ...           3            3  0:02:12  0:02:35   Germany   \n",
       "2  3:05:10  8:24:56  ...          20           20  0:02:08  0:02:22   Germany   \n",
       "3  3:01:14  8:26:35  ...          23           23  0:02:07  0:02:27   Germany   \n",
       "4  2:51:07  8:40:10  ...           1           32  0:02:02  0:02:35   Germany   \n",
       "\n",
       "  Alpha_2_code Alpha_3_code Numeric_code  Latitude_average  Longitude_average  \n",
       "0           DE          DEU          276              51.0                9.0  \n",
       "1           DE          DEU          276              51.0                9.0  \n",
       "2           DE          DEU          276              51.0                9.0  \n",
       "3           DE          DEU          276              51.0                9.0  \n",
       "4           DE          DEU          276              51.0                9.0  \n",
       "\n",
       "[5 rows x 21 columns]"
      ],
      "text/html": "<div>\n<style scoped>\n    .dataframe tbody tr th:only-of-type {\n        vertical-align: middle;\n    }\n\n    .dataframe tbody tr th {\n        vertical-align: top;\n    }\n\n    .dataframe thead th {\n        text-align: right;\n    }\n</style>\n<table border=\"1\" class=\"dataframe\">\n  <thead>\n    <tr style=\"text-align: right;\">\n      <th></th>\n      <th>BIB</th>\n      <th>Last_Name</th>\n      <th>First_Name</th>\n      <th>Country_x</th>\n      <th>Gender</th>\n      <th>Division</th>\n      <th>Swim</th>\n      <th>Bike</th>\n      <th>Run</th>\n      <th>Overall</th>\n      <th>...</th>\n      <th>Gender_Rank</th>\n      <th>Overall_Rank</th>\n      <th>T1</th>\n      <th>T2</th>\n      <th>Country_y</th>\n      <th>Alpha_2_code</th>\n      <th>Alpha_3_code</th>\n      <th>Numeric_code</th>\n      <th>Latitude_average</th>\n      <th>Longitude_average</th>\n    </tr>\n  </thead>\n  <tbody>\n    <tr>\n      <th>0</th>\n      <td>4</td>\n      <td>Frodeno</td>\n      <td>Jan</td>\n      <td>DEU</td>\n      <td>Male</td>\n      <td>MPRO</td>\n      <td>0:47:31</td>\n      <td>4:16:02</td>\n      <td>2:42:43</td>\n      <td>7:51:13</td>\n      <td>...</td>\n      <td>1</td>\n      <td>1</td>\n      <td>0:01:58</td>\n      <td>0:02:59</td>\n      <td>Germany</td>\n      <td>DE</td>\n      <td>DEU</td>\n      <td>276</td>\n      <td>51.0</td>\n      <td>9.0</td>\n    </tr>\n    <tr>\n      <th>1</th>\n      <td>5</td>\n      <td>Kienle</td>\n      <td>Sebastian</td>\n      <td>DEU</td>\n      <td>Male</td>\n      <td>MPRO</td>\n      <td>0:52:17</td>\n      <td>4:15:04</td>\n      <td>2:49:56</td>\n      <td>8:02:04</td>\n      <td>...</td>\n      <td>3</td>\n      <td>3</td>\n      <td>0:02:12</td>\n      <td>0:02:35</td>\n      <td>Germany</td>\n      <td>DE</td>\n      <td>DEU</td>\n      <td>276</td>\n      <td>51.0</td>\n      <td>9.0</td>\n    </tr>\n    <tr>\n      <th>2</th>\n      <td>45</td>\n      <td>Frommhold</td>\n      <td>Nils</td>\n      <td>DEU</td>\n      <td>Male</td>\n      <td>MPRO</td>\n      <td>0:50:47</td>\n      <td>4:24:29</td>\n      <td>3:05:10</td>\n      <td>8:24:56</td>\n      <td>...</td>\n      <td>20</td>\n      <td>20</td>\n      <td>0:02:08</td>\n      <td>0:02:22</td>\n      <td>Germany</td>\n      <td>DE</td>\n      <td>DEU</td>\n      <td>276</td>\n      <td>51.0</td>\n      <td>9.0</td>\n    </tr>\n    <tr>\n      <th>3</th>\n      <td>44</td>\n      <td>Duelsen</td>\n      <td>Marc</td>\n      <td>DEU</td>\n      <td>Male</td>\n      <td>MPRO</td>\n      <td>0:52:21</td>\n      <td>4:28:26</td>\n      <td>3:01:14</td>\n      <td>8:26:35</td>\n      <td>...</td>\n      <td>23</td>\n      <td>23</td>\n      <td>0:02:07</td>\n      <td>0:02:27</td>\n      <td>Germany</td>\n      <td>DE</td>\n      <td>DEU</td>\n      <td>276</td>\n      <td>51.0</td>\n      <td>9.0</td>\n    </tr>\n    <tr>\n      <th>4</th>\n      <td>3003</td>\n      <td>Haug</td>\n      <td>Anne</td>\n      <td>DEU</td>\n      <td>Female</td>\n      <td>FPRO</td>\n      <td>0:54:09</td>\n      <td>4:50:17</td>\n      <td>2:51:07</td>\n      <td>8:40:10</td>\n      <td>...</td>\n      <td>1</td>\n      <td>32</td>\n      <td>0:02:02</td>\n      <td>0:02:35</td>\n      <td>Germany</td>\n      <td>DE</td>\n      <td>DEU</td>\n      <td>276</td>\n      <td>51.0</td>\n      <td>9.0</td>\n    </tr>\n  </tbody>\n</table>\n<p>5 rows × 21 columns</p>\n</div>"
     },
     "metadata": {},
     "execution_count": 13
    }
   ],
   "source": [
    "merged_df = pd.merge(race_stats_df, countries_df, left_on=\"Country\", right_on=\"Alpha_3_code\")\n",
    "merged_df.head()"
   ]
  },
  {
   "cell_type": "code",
   "execution_count": 14,
   "metadata": {},
   "outputs": [
    {
     "output_type": "execute_result",
     "data": {
      "text/plain": [
       "Index(['BIB', 'Last_Name', 'First_Name', 'Country_x', 'Gender', 'Division',\n",
       "       'Swim', 'Bike', 'Run', 'Overall', 'Division_Rank', 'Gender_Rank',\n",
       "       'Overall_Rank', 'T1', 'T2', 'Country_y', 'Alpha_2_code', 'Alpha_3_code',\n",
       "       'Numeric_code', 'Latitude_average', 'Longitude_average'],\n",
       "      dtype='object')"
      ]
     },
     "metadata": {},
     "execution_count": 14
    }
   ],
   "source": [
    "merged_df.columns"
   ]
  },
  {
   "cell_type": "code",
   "execution_count": 15,
   "metadata": {},
   "outputs": [
    {
     "output_type": "execute_result",
     "data": {
      "text/plain": [
       "    BIB  Last_Name First_Name Alpha_3_code  Country  Gender Division     Swim  \\\n",
       "0     4    Frodeno        Jan          DEU  Germany    Male     MPRO  0:47:31   \n",
       "1     5     Kienle  Sebastian          DEU  Germany    Male     MPRO  0:52:17   \n",
       "2    45  Frommhold       Nils          DEU  Germany    Male     MPRO  0:50:47   \n",
       "3    44    Duelsen       Marc          DEU  Germany    Male     MPRO  0:52:21   \n",
       "4  3003       Haug       Anne          DEU  Germany  Female     FPRO  0:54:09   \n",
       "\n",
       "      Bike      Run  Overall Division_Rank Gender_Rank Overall_Rank       T1  \\\n",
       "0  4:16:02  2:42:43  7:51:13             1           1            1  0:01:58   \n",
       "1  4:15:04  2:49:56  8:02:04             3           3            3  0:02:12   \n",
       "2  4:24:29  3:05:10  8:24:56            20          20           20  0:02:08   \n",
       "3  4:28:26  3:01:14  8:26:35            23          23           23  0:02:07   \n",
       "4  4:50:17  2:51:07  8:40:10             1           1           32  0:02:02   \n",
       "\n",
       "        T2  Latitude_average  Longitude_average  \n",
       "0  0:02:59              51.0                9.0  \n",
       "1  0:02:35              51.0                9.0  \n",
       "2  0:02:22              51.0                9.0  \n",
       "3  0:02:27              51.0                9.0  \n",
       "4  0:02:35              51.0                9.0  "
      ],
      "text/html": "<div>\n<style scoped>\n    .dataframe tbody tr th:only-of-type {\n        vertical-align: middle;\n    }\n\n    .dataframe tbody tr th {\n        vertical-align: top;\n    }\n\n    .dataframe thead th {\n        text-align: right;\n    }\n</style>\n<table border=\"1\" class=\"dataframe\">\n  <thead>\n    <tr style=\"text-align: right;\">\n      <th></th>\n      <th>BIB</th>\n      <th>Last_Name</th>\n      <th>First_Name</th>\n      <th>Alpha_3_code</th>\n      <th>Country</th>\n      <th>Gender</th>\n      <th>Division</th>\n      <th>Swim</th>\n      <th>Bike</th>\n      <th>Run</th>\n      <th>Overall</th>\n      <th>Division_Rank</th>\n      <th>Gender_Rank</th>\n      <th>Overall_Rank</th>\n      <th>T1</th>\n      <th>T2</th>\n      <th>Latitude_average</th>\n      <th>Longitude_average</th>\n    </tr>\n  </thead>\n  <tbody>\n    <tr>\n      <th>0</th>\n      <td>4</td>\n      <td>Frodeno</td>\n      <td>Jan</td>\n      <td>DEU</td>\n      <td>Germany</td>\n      <td>Male</td>\n      <td>MPRO</td>\n      <td>0:47:31</td>\n      <td>4:16:02</td>\n      <td>2:42:43</td>\n      <td>7:51:13</td>\n      <td>1</td>\n      <td>1</td>\n      <td>1</td>\n      <td>0:01:58</td>\n      <td>0:02:59</td>\n      <td>51.0</td>\n      <td>9.0</td>\n    </tr>\n    <tr>\n      <th>1</th>\n      <td>5</td>\n      <td>Kienle</td>\n      <td>Sebastian</td>\n      <td>DEU</td>\n      <td>Germany</td>\n      <td>Male</td>\n      <td>MPRO</td>\n      <td>0:52:17</td>\n      <td>4:15:04</td>\n      <td>2:49:56</td>\n      <td>8:02:04</td>\n      <td>3</td>\n      <td>3</td>\n      <td>3</td>\n      <td>0:02:12</td>\n      <td>0:02:35</td>\n      <td>51.0</td>\n      <td>9.0</td>\n    </tr>\n    <tr>\n      <th>2</th>\n      <td>45</td>\n      <td>Frommhold</td>\n      <td>Nils</td>\n      <td>DEU</td>\n      <td>Germany</td>\n      <td>Male</td>\n      <td>MPRO</td>\n      <td>0:50:47</td>\n      <td>4:24:29</td>\n      <td>3:05:10</td>\n      <td>8:24:56</td>\n      <td>20</td>\n      <td>20</td>\n      <td>20</td>\n      <td>0:02:08</td>\n      <td>0:02:22</td>\n      <td>51.0</td>\n      <td>9.0</td>\n    </tr>\n    <tr>\n      <th>3</th>\n      <td>44</td>\n      <td>Duelsen</td>\n      <td>Marc</td>\n      <td>DEU</td>\n      <td>Germany</td>\n      <td>Male</td>\n      <td>MPRO</td>\n      <td>0:52:21</td>\n      <td>4:28:26</td>\n      <td>3:01:14</td>\n      <td>8:26:35</td>\n      <td>23</td>\n      <td>23</td>\n      <td>23</td>\n      <td>0:02:07</td>\n      <td>0:02:27</td>\n      <td>51.0</td>\n      <td>9.0</td>\n    </tr>\n    <tr>\n      <th>4</th>\n      <td>3003</td>\n      <td>Haug</td>\n      <td>Anne</td>\n      <td>DEU</td>\n      <td>Germany</td>\n      <td>Female</td>\n      <td>FPRO</td>\n      <td>0:54:09</td>\n      <td>4:50:17</td>\n      <td>2:51:07</td>\n      <td>8:40:10</td>\n      <td>1</td>\n      <td>1</td>\n      <td>32</td>\n      <td>0:02:02</td>\n      <td>0:02:35</td>\n      <td>51.0</td>\n      <td>9.0</td>\n    </tr>\n  </tbody>\n</table>\n</div>"
     },
     "metadata": {},
     "execution_count": 15
    }
   ],
   "source": [
    "merged_df = merged_df[['BIB', 'Last_Name', 'First_Name', 'Country_x', 'Country_y', 'Gender', 'Division', 'Swim', 'Bike', 'Run', 'Overall', 'Division_Rank', 'Gender_Rank', 'Overall_Rank', 'T1', 'T2', 'Latitude_average', 'Longitude_average']]\n",
    "merged_df = merged_df.rename(columns={\"Country_x\":\"Alpha_3_code\", \"Country_y\":\"Country\"})\n",
    "merged_df.head()"
   ]
  },
  {
   "cell_type": "code",
   "execution_count": 16,
   "metadata": {},
   "outputs": [],
   "source": [
    "# Create connection to postgresql\n",
    "rds_connection_string = f\"{username}:{password}@localhost:5432/ironman\"\n",
    "# save this to sqllite\n",
    "engine = create_engine(\"sqlite:///data/ironman.sqlite\")"
   ]
  },
  {
   "cell_type": "code",
   "execution_count": 17,
   "metadata": {},
   "outputs": [],
   "source": [
    "# Use pandas to load countries DataFrame into database\n",
    "merged_df.to_sql(name='race_stats', con=engine, if_exists='replace', index=False)"
   ]
  },
  {
   "cell_type": "code",
   "execution_count": 18,
   "metadata": {},
   "outputs": [
    {
     "output_type": "execute_result",
     "data": {
      "text/plain": [
       "    BIB  Last_Name First_Name Alpha_3_code  Country  Gender Division     Swim  \\\n",
       "0     4    Frodeno        Jan          DEU  Germany    Male     MPRO  0:47:31   \n",
       "1     5     Kienle  Sebastian          DEU  Germany    Male     MPRO  0:52:17   \n",
       "2    45  Frommhold       Nils          DEU  Germany    Male     MPRO  0:50:47   \n",
       "3    44    Duelsen       Marc          DEU  Germany    Male     MPRO  0:52:21   \n",
       "4  3003       Haug       Anne          DEU  Germany  Female     FPRO  0:54:09   \n",
       "\n",
       "      Bike      Run  Overall Division_Rank Gender_Rank Overall_Rank       T1  \\\n",
       "0  4:16:02  2:42:43  7:51:13             1           1            1  0:01:58   \n",
       "1  4:15:04  2:49:56  8:02:04             3           3            3  0:02:12   \n",
       "2  4:24:29  3:05:10  8:24:56            20          20           20  0:02:08   \n",
       "3  4:28:26  3:01:14  8:26:35            23          23           23  0:02:07   \n",
       "4  4:50:17  2:51:07  8:40:10             1           1           32  0:02:02   \n",
       "\n",
       "        T2  Latitude_average  Longitude_average  \n",
       "0  0:02:59              51.0                9.0  \n",
       "1  0:02:35              51.0                9.0  \n",
       "2  0:02:22              51.0                9.0  \n",
       "3  0:02:27              51.0                9.0  \n",
       "4  0:02:35              51.0                9.0  "
      ],
      "text/html": "<div>\n<style scoped>\n    .dataframe tbody tr th:only-of-type {\n        vertical-align: middle;\n    }\n\n    .dataframe tbody tr th {\n        vertical-align: top;\n    }\n\n    .dataframe thead th {\n        text-align: right;\n    }\n</style>\n<table border=\"1\" class=\"dataframe\">\n  <thead>\n    <tr style=\"text-align: right;\">\n      <th></th>\n      <th>BIB</th>\n      <th>Last_Name</th>\n      <th>First_Name</th>\n      <th>Alpha_3_code</th>\n      <th>Country</th>\n      <th>Gender</th>\n      <th>Division</th>\n      <th>Swim</th>\n      <th>Bike</th>\n      <th>Run</th>\n      <th>Overall</th>\n      <th>Division_Rank</th>\n      <th>Gender_Rank</th>\n      <th>Overall_Rank</th>\n      <th>T1</th>\n      <th>T2</th>\n      <th>Latitude_average</th>\n      <th>Longitude_average</th>\n    </tr>\n  </thead>\n  <tbody>\n    <tr>\n      <th>0</th>\n      <td>4</td>\n      <td>Frodeno</td>\n      <td>Jan</td>\n      <td>DEU</td>\n      <td>Germany</td>\n      <td>Male</td>\n      <td>MPRO</td>\n      <td>0:47:31</td>\n      <td>4:16:02</td>\n      <td>2:42:43</td>\n      <td>7:51:13</td>\n      <td>1</td>\n      <td>1</td>\n      <td>1</td>\n      <td>0:01:58</td>\n      <td>0:02:59</td>\n      <td>51.0</td>\n      <td>9.0</td>\n    </tr>\n    <tr>\n      <th>1</th>\n      <td>5</td>\n      <td>Kienle</td>\n      <td>Sebastian</td>\n      <td>DEU</td>\n      <td>Germany</td>\n      <td>Male</td>\n      <td>MPRO</td>\n      <td>0:52:17</td>\n      <td>4:15:04</td>\n      <td>2:49:56</td>\n      <td>8:02:04</td>\n      <td>3</td>\n      <td>3</td>\n      <td>3</td>\n      <td>0:02:12</td>\n      <td>0:02:35</td>\n      <td>51.0</td>\n      <td>9.0</td>\n    </tr>\n    <tr>\n      <th>2</th>\n      <td>45</td>\n      <td>Frommhold</td>\n      <td>Nils</td>\n      <td>DEU</td>\n      <td>Germany</td>\n      <td>Male</td>\n      <td>MPRO</td>\n      <td>0:50:47</td>\n      <td>4:24:29</td>\n      <td>3:05:10</td>\n      <td>8:24:56</td>\n      <td>20</td>\n      <td>20</td>\n      <td>20</td>\n      <td>0:02:08</td>\n      <td>0:02:22</td>\n      <td>51.0</td>\n      <td>9.0</td>\n    </tr>\n    <tr>\n      <th>3</th>\n      <td>44</td>\n      <td>Duelsen</td>\n      <td>Marc</td>\n      <td>DEU</td>\n      <td>Germany</td>\n      <td>Male</td>\n      <td>MPRO</td>\n      <td>0:52:21</td>\n      <td>4:28:26</td>\n      <td>3:01:14</td>\n      <td>8:26:35</td>\n      <td>23</td>\n      <td>23</td>\n      <td>23</td>\n      <td>0:02:07</td>\n      <td>0:02:27</td>\n      <td>51.0</td>\n      <td>9.0</td>\n    </tr>\n    <tr>\n      <th>4</th>\n      <td>3003</td>\n      <td>Haug</td>\n      <td>Anne</td>\n      <td>DEU</td>\n      <td>Germany</td>\n      <td>Female</td>\n      <td>FPRO</td>\n      <td>0:54:09</td>\n      <td>4:50:17</td>\n      <td>2:51:07</td>\n      <td>8:40:10</td>\n      <td>1</td>\n      <td>1</td>\n      <td>32</td>\n      <td>0:02:02</td>\n      <td>0:02:35</td>\n      <td>51.0</td>\n      <td>9.0</td>\n    </tr>\n  </tbody>\n</table>\n</div>"
     },
     "metadata": {},
     "execution_count": 18
    }
   ],
   "source": [
    "# verify table was loaded successfully\n",
    "pd.read_sql_query('select * from race_stats', con=engine).head()"
   ]
  },
  {
   "cell_type": "code",
   "execution_count": 19,
   "metadata": {},
   "outputs": [],
   "source": [
    "import sqlalchemy\n",
    "from sqlalchemy.ext.automap import automap_base\n",
    "from sqlalchemy.orm import Session"
   ]
  },
  {
   "cell_type": "code",
   "execution_count": 20,
   "metadata": {},
   "outputs": [],
   "source": [
    "engine = create_engine(\"sqlite:///data/ironman.sqlite\")"
   ]
  },
  {
   "cell_type": "code",
   "execution_count": 21,
   "metadata": {},
   "outputs": [],
   "source": [
    "# reflect an existing database into a new model\n",
    "Base = automap_base()\n",
    "# reflect the tables\n",
    "Base.prepare(engine, reflect=True)"
   ]
  },
  {
   "cell_type": "code",
   "execution_count": 22,
   "metadata": {},
   "outputs": [
    {
     "output_type": "execute_result",
     "data": {
      "text/plain": [
       "[]"
      ]
     },
     "metadata": {},
     "execution_count": 22
    }
   ],
   "source": [
    "Base.classes.keys()"
   ]
  },
  {
   "cell_type": "code",
   "execution_count": null,
   "metadata": {},
   "outputs": [],
   "source": []
  }
 ]
}